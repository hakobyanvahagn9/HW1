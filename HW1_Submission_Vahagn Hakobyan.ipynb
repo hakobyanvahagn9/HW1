{
 "cells": [
  {
   "cell_type": "code",
   "execution_count": null,
   "metadata": {},
   "outputs": [],
   "source": [
    "# There is no need to run this chunk of code.\n",
    "import os\n",
    "wd=''\n",
    "os.chdir(wd)\n",
    "%run HW1_solutions.ipynb"
   ]
  },
  {
   "cell_type": "markdown",
   "metadata": {},
   "source": [
    "## Homework 1 Submission\n",
    "Write your name and surname below:\n",
    "<br>\n",
    "Name:\n",
    "<br>\n",
    "Surname:"
   ]
  },
  {
   "cell_type": "markdown",
   "metadata": {},
   "source": [
    "***Problem 1:*** <br> Write a program that: <br>\n",
    "a. compares the lengths of two texts given below (i.e. the number of characters in each text) <br>\n",
    "b. compares the numbers of words in each text<br>\n",
    "c. calculates the frequency of each word (the number of times the word appears in the text) in each text and puts them in a dictionary <br>\n",
    "d. prints the number of unique words used in each text as a dictionary.\n",
    "<br>\n",
    "Example 1: {\"The legth of text a\": 487,\"The legth of text b\": 562}<br>\n",
    "Example 2: Word frequency- {\"Jovi\":2,\"in\": 4}\n"
   ]
  },
  {
   "cell_type": "code",
   "execution_count": 3,
   "metadata": {},
   "outputs": [],
   "source": [
    "a = 'Bon Jovi is an American rock band formed in 1983 in Sayreville, New Jersey. \\\n",
    "It consists of singer Jon Bon Jovi, keyboardist David Bryan, drummer Tico Torres, \\\n",
    "guitarist PhilX, and bassist Hugh McDonald. Previous bassist Alec John Such was \\\n",
    "dismissed in 1994, and longtime guitarist and co-songwriter Richie Sambora left in 2013.'\n",
    "\n",
    "b = \"Ronald Wilson Reagan (/ˈreɪɡən/; February 6, 1911 – June 5, 2004) \\\n",
    "was an American politician who served as the 40th president of the United \\\n",
    "States from 1981 to 1989. Prior to his presidency, he was a Hollywood actor \\\n",
    "and union leader before serving as the 33rd governor of California from 1967 to 1975.\""
   ]
  },
  {
   "cell_type": "code",
   "execution_count": 24,
   "metadata": {},
   "outputs": [
    {
     "name": "stdout",
     "output_type": "stream",
     "text": [
      "a) b is shorter: True\n",
      "\n",
      "b) b has more words than a\n",
      "\n",
      "c*) library of A:\n",
      "\t {'Bon': 2, 'Jovi': 2, 'is': 9, 'an': 7, 'American': 1, 'rock': 1, 'band': 1, 'formed': 1, 'in': 5, '1983': 1, 'Sayreville': 1, 'New': 1, 'Jersey': 1, 'It': 1, 'consists': 1, 'of': 1, 'singer': 1, 'Jon': 1, 'keyboardist': 1, 'David': 1, 'Bryan': 1, 'drummer': 1, 'Tico': 1, 'Torres': 1, 'guitarist': 2, 'PhilX': 1, 'and': 4, 'bassist': 2, 'Hugh': 1, 'McDonald': 1, 'Previous': 1, 'Alec': 1, 'John': 1, 'Such': 1, 'was': 1, 'dismissed': 1, '1994': 1, 'longtime': 1, 'co-songwriter': 1, 'Richie': 1, 'Sambora': 1, 'left': 1, '2013': 1}\n",
      "\n",
      "c**) library of b:\n",
      "\t {'Ronald': 1, 'Wilson': 1, 'Reagan': 1, '(/ˈreɪɡən/;': 1, 'February': 1, '6': 2, '1911': 1, '–': 1, 'June': 1, '5': 2, '2004)': 1, 'was': 2, 'an': 5, 'American': 1, 'politician': 1, 'who': 1, 'served': 1, 'as': 4, 'the': 3, '40th': 1, 'president': 1, 'of': 2, 'United': 1, 'States': 1, 'from': 2, '1981': 1, 'to': 4, '1989': 1, 'Prior': 1, 'his': 1, 'presidency': 1, 'he': 4, 'a': 18, 'Hollywood': 1, 'actor': 1, 'and': 1, 'union': 1, 'leader': 1, 'before': 1, 'serving': 1, '33rd': 1, 'governor': 1, 'California': 1, '1967': 1, '1975': 1}\n",
      "\n",
      "d) 43 45\n"
     ]
    }
   ],
   "source": [
    "###_____________Start code here_________________###\n",
    "\n",
    "#a\n",
    "print(\"a) b is shorter:\", len(a)> len(b))\n",
    "\n",
    "#b\n",
    "a=a.replace(\",\", \"\")\n",
    "a= a.replace(\".\", \"\")\n",
    "b=b.replace(\",\", \"\")\n",
    "b= b.replace(\".\", \"\")\n",
    "listA = a.split()\n",
    "listB= b.split()\n",
    "if len(listA)>len(listB):\n",
    "    print(\"\\nb) a has more words than b\")\n",
    "else:\n",
    "    print(\"\\nb) b has more words than a\")\n",
    "\n",
    "#c\n",
    "frA = {}\n",
    "for i in range( len(listA)):\n",
    "    frA[listA[i]] = a.count(listA[i])\n",
    "      \n",
    "print(\"\\nc*) library of A:\\n\\t\",frA)\n",
    "\n",
    "frB = {}\n",
    "for i in range( len(listB)):\n",
    "    frB[listB[i]] = b.count(listB[i])\n",
    "      \n",
    "print(\"\\nc**) library of b:\\n\\t\",frB)\n",
    "    \n",
    "#d\n",
    "unA = set(listA)\n",
    "unB = set(listB)\n",
    "print(\"\\nd)\",len(unA),len(unB))\n",
    "###_____________End code here_________________###"
   ]
  },
  {
   "cell_type": "code",
   "execution_count": null,
   "metadata": {},
   "outputs": [],
   "source": [
    "# There is no need to run this chunk of code.\n",
    "ex1(a,b)"
   ]
  },
  {
   "cell_type": "markdown",
   "metadata": {},
   "source": [
    "***Problem 13:*** Write a program to calculate the sum of the digits of a number  until it is a single-digit number (Example: **199** -> 1+9+9=**19** -> 1+9=**10** -> 1+0=**1**). Let the program print the result of each step (the bolded numbers in the example). Run the program for 289, 1011, 3333."
   ]
  },
  {
   "cell_type": "code",
   "execution_count": 32,
   "metadata": {},
   "outputs": [
    {
     "name": "stdout",
     "output_type": "stream",
     "text": [
      "19\n",
      "10\n",
      "1\n",
      "3\n",
      "12\n",
      "3\n"
     ]
    }
   ],
   "source": [
    "###_____________Start code here_________________###\n",
    "import math\n",
    "def sum(var):\n",
    "    val=str(var)\n",
    "    i = 0\n",
    "    rslt = 0\n",
    "    while(i < len(val)):\n",
    "        rem = int(val[i])\n",
    "        rslt+= rem\n",
    "        i += 1\n",
    "    print(rslt)\n",
    "    \n",
    "    if rslt > 9:\n",
    "        return(sum(rslt))\n",
    "    else:\n",
    "        return (None)\n",
    "sum(289)\n",
    "sum(1011)\n",
    "sum(3333)\n",
    "###_____________End code here_________________###"
   ]
  },
  {
   "cell_type": "code",
   "execution_count": null,
   "metadata": {},
   "outputs": [],
   "source": [
    "# There is no need to run this chunk of code.\n",
    "ex13(289)\n",
    "ex13(1011)\n",
    "ex13(3333)"
   ]
  },
  {
   "cell_type": "markdown",
   "metadata": {},
   "source": [
    "***Problem 14:*** Write a program to print a chess board where **\"X\"s** are black squares and **\"O\"s** are white ones. Hint: you can use \"end\" parameter of print() function to print on the same line and separate the outputs of different prints by space or any character you want. More on this topic here: https://www.geeksforgeeks.org/gfact-50-python-end-parameter-in-print/.\n",
    "<br>The output should be like this:\n",
    "<img src=\"chess.jpg\" style=\"width: 200px;\">"
   ]
  },
  {
   "cell_type": "code",
   "execution_count": 49,
   "metadata": {
    "scrolled": true
   },
   "outputs": [
    {
     "name": "stdout",
     "output_type": "stream",
     "text": [
      "O X O X O X O X  \n",
      "X O X O X O X O  \n",
      "O X O X O X O X  \n",
      "X O X O X O X O  \n",
      "O X O X O X O X  \n",
      "X O X O X O X O  \n",
      "O X O X O X O X  \n",
      "X O X O X O X O  \n"
     ]
    }
   ],
   "source": [
    "###_____________Start code here_________________###\n",
    "def chess(a):\n",
    "    for i in range(a):\n",
    "        if i%2==0:\n",
    "            print(\"O X \"*4)\n",
    "    \n",
    "        else:\n",
    "            print(\"X O \"*4)\n",
    "board(8)\n",
    "###_____________End code here_________________###"
   ]
  },
  {
   "cell_type": "code",
   "execution_count": null,
   "metadata": {},
   "outputs": [],
   "source": [
    "# There is no need to run this chunk of code.\n",
    "ex14()"
   ]
  },
  {
   "cell_type": "markdown",
   "metadata": {},
   "source": [
    "***Problem 15:*** Write a program to reverse the digits of a given integer without using any built-in function or slicing. (**Example**: 12345 to 54321). Run the program for 4815162342."
   ]
  },
  {
   "cell_type": "code",
   "execution_count": 53,
   "metadata": {},
   "outputs": [
    {
     "name": "stdout",
     "output_type": "stream",
     "text": [
      "321\n",
      "2432615184\n"
     ]
    }
   ],
   "source": [
    "###_____________Start code here_________________###\n",
    "def reverse(str):\n",
    "    i=len(str)-1\n",
    "    num=\"\"\n",
    "    while i>=0:\n",
    "        num=num+str[i]\n",
    "        i-=1\n",
    "    return num\n",
    "\n",
    "print(reverse(\"123\"))\n",
    " \n",
    "print(reverse(\"4815162342\"))\n",
    "#The reference from \"The Lost\" is everything :D\n",
    "###_____________End code here_________________###"
   ]
  },
  {
   "cell_type": "code",
   "execution_count": null,
   "metadata": {},
   "outputs": [],
   "source": [
    "# There is no need to run this chunk of code.\n",
    "ex15(4815162342)"
   ]
  },
  {
   "cell_type": "markdown",
   "metadata": {},
   "source": [
    "***Problem 17:*** Write a function that will find all numbers between A and B (inclusive) such that each digit of the number is even. For example foo(20,26) returns [22,24,26]. Call the function for A=40 and B=140. 0 is even number."
   ]
  },
  {
   "cell_type": "code",
   "execution_count": 12,
   "metadata": {},
   "outputs": [],
   "source": [
    "###_____________Start code here_________________###\n",
    "def foo(num1, num2):\n",
    "    listn = []    \n",
    "    for i in range(num1,num2):\n",
    "        a=len(list(str(i)))\n",
    "        for j in list(str(i)):\n",
    "            if int(j)%2 == 0:\n",
    "                a-=1\n",
    "            if a==0:\n",
    "                listn.append(i)\n",
    "                \n",
    "    return listn\n",
    "\n",
    "print(foo(40,140))\n",
    "###_____________End code here_________________###"
   ]
  },
  {
   "cell_type": "code",
   "execution_count": null,
   "metadata": {},
   "outputs": [],
   "source": [
    "# There is no need to run this chunk of code.\n",
    "ex17(40,140)"
   ]
  },
  {
   "cell_type": "markdown",
   "metadata": {},
   "source": [
    "***Problem 18:*** On basic cell phones numeric keypad is used to write a message. Write a function to output the numerical sequence of the keys to be pressed for any message. For instance, numerical sequence for typing \"P\" will be 7 and for \"I\" 444. Another example, the sequence for \"hello\" will be 4433555555666. Make the input text uppercase before converting to numerical sequence. Call the function for the following input **\"HI DEAR! I WILL BE LATE TODAY.\"**\n",
    "\n",
    "| Key | Symbols |\n",
    "|----|----|\n",
    "|1|. , ? ! :|\n",
    "|2|A B C|\n",
    "|3|D E F|\n",
    "|4|G H I|\n",
    "|5|J K L|\n",
    "|6|M N O|\n",
    "|7|P Q R S|\n",
    "|8|T U V|\n",
    "|9|W X Y Z|\n",
    "|0| space |\n"
   ]
  },
  {
   "cell_type": "code",
   "execution_count": 3,
   "metadata": {},
   "outputs": [
    {
     "name": "stdout",
     "output_type": "stream",
     "text": [
      "44444033327771111044409444555555022330555283308666329991\n"
     ]
    }
   ],
   "source": [
    "###_____________Start code here_________________###\n",
    "keyboard = {'.': '1', ',': '11', '?': '111','!':\"1111\" ,':': '11111',\n",
    "            'A': '2', 'B': '22', 'C': '222',\n",
    "            'D': '3', 'E': '33', 'F': '333',\n",
    "            'G': '4', 'H': \"44\", 'I': '444',\n",
    "            'J': '5', 'K': '55', 'L': '555',\n",
    "            'M': '6', 'N': '66', 'O': '666',\n",
    "            'P': '7', 'Q': '77', 'R': '777', 'S': '7777',\n",
    "            'T': '8', 'U': '88', 'V': '888',\n",
    "            'W': '9', 'X': '99', 'Y': '999', 'Z': '9999', \n",
    "            ' ': '0'}\n",
    "def mssg(text):\n",
    "    text=list(text.upper())\n",
    "    a= \"\"\n",
    "    for i in text:\n",
    "        a += keyboard[i]\n",
    "    print(a)    \n",
    "sms(\"HI DEAR! I WILL BE LATE TODAY.\")\n",
    "###_____________End code here_________________###"
   ]
  },
  {
   "cell_type": "code",
   "execution_count": null,
   "metadata": {},
   "outputs": [],
   "source": [
    "# There is no need to run this chunk of code.\n",
    "print(ex18(\"HI DEAR! I WILL BE LATE TODAY.\"))"
   ]
  },
  {
   "cell_type": "markdown",
   "metadata": {},
   "source": [
    "***Problem 20:*** Write a program that accepts a sentence and prints the number of letters and digits in it. Run the program for \"1, 2, 3, 4... Let's run the code!\" "
   ]
  },
  {
   "cell_type": "code",
   "execution_count": 44,
   "metadata": {},
   "outputs": [
    {
     "name": "stdout",
     "output_type": "stream",
     "text": [
      "numbers: 4 \n",
      "letters: 14\n"
     ]
    }
   ],
   "source": [
    "###_____________Start code here_________________###\n",
    "snt = (\"1, 2, 3, 4... Let's run the code!\")\n",
    "txt = 0  \n",
    "num = 0  \n",
    "\n",
    "for i in snt:  \n",
    "    if i.isdigit():      \n",
    "        num +=1      \n",
    "    elif i.isalpha():    \n",
    "        txt +=1    \n",
    "    else:    \n",
    "        pass  \n",
    "print(\"numbers:\",num,\"\\n\" \"letters:\", txt) \n",
    "###_____________End code here_________________###"
   ]
  },
  {
   "cell_type": "code",
   "execution_count": null,
   "metadata": {},
   "outputs": [],
   "source": [
    "# There is no need to run this chunk of code.\n",
    "ex20(\"1, 2, 3, 4... Let's run the code!\")"
   ]
  },
  {
   "cell_type": "markdown",
   "metadata": {},
   "source": [
    "***Problem 22:*** Two people throw two six-sided fair dices each. The one with greater sum wins, and if the sum is equal, they draw. Write a program that simulates the game and plays 100 time. Print the number of wins of Player 1, Player 2 and draws."
   ]
  },
  {
   "cell_type": "code",
   "execution_count": 19,
   "metadata": {},
   "outputs": [
    {
     "name": "stdout",
     "output_type": "stream",
     "text": [
      "Player 1: 41 \n",
      "Player 2: 27 \n",
      "Draw: 32\n"
     ]
    }
   ],
   "source": [
    "###_____________Start code here_________________###\n",
    "dice = [1, 2, 3, 4, 5, 6]\n",
    "\n",
    "Pl1=0\n",
    "Pl2=0\n",
    "draw=0\n",
    "import random\n",
    "for n in range(100):\n",
    "    if random.choice(dice)+ random.choice(dice)> random.choice(dice)+ random.choice(dice):\n",
    "        Pl1+=1\n",
    "    elif random.choice(dice)+ random.choice(dice)< random.choice(dice)+ random.choice(dice):\n",
    "        Pl2+=1\n",
    "    else:\n",
    "        draw+=1\n",
    "    n+=1\n",
    "print(\"Player 1:\", Pl1,\"\\nPlayer 2:\", Pl2,\"\\nDraw:\", draw)\n",
    "###_____________End code here_________________###"
   ]
  },
  {
   "cell_type": "code",
   "execution_count": null,
   "metadata": {},
   "outputs": [],
   "source": [
    "# There is no need to run this chunk of code.\n",
    "ex22()"
   ]
  },
  {
   "cell_type": "markdown",
   "metadata": {},
   "source": [
    "***Problem 23:*** Write a program that randomly generates a nine-character password. First 3 characters must be from the set \"let\", second 3 characters from the set \"num\", last three ones from the set \"sym\". Set seed() to 42 and generate a password."
   ]
  },
  {
   "cell_type": "code",
   "execution_count": 20,
   "metadata": {},
   "outputs": [],
   "source": [
    "let = {'A','B','C','a','b','c'}\n",
    "num = {1,2,3,4,5,6}\n",
    "sym = {'!','@','#','$','%','^'}"
   ]
  },
  {
   "cell_type": "code",
   "execution_count": 40,
   "metadata": {},
   "outputs": [
    {
     "name": "stdout",
     "output_type": "stream",
     "text": [
      "CBB632##!\n"
     ]
    }
   ],
   "source": [
    "###_____________Start code here_________________###\n",
    "let = {'A','B','C','a','b','c'}\n",
    "num = {1,2,3,4,5,6}\n",
    "sym = {'!','@','#','$','%','^'}\n",
    "let1 = list(let)\n",
    "num1 = list(num)\n",
    "sym1 = list(sym)\n",
    "import random\n",
    "random.seed(42)\n",
    "password = random.choice(let1)+random.choice(let1)+random.choice(let1)+str(random.choice(num1))+str(random.choice(num1))+str(random.choice(num1))+random.choice(sym1)+random.choice(sym1)+random.choice(sym1)\n",
    "print(password)\n",
    "###_____________End code here_________________###"
   ]
  },
  {
   "cell_type": "code",
   "execution_count": null,
   "metadata": {},
   "outputs": [],
   "source": [
    "# There is no need to run this chunk of code.\n",
    "ex23()"
   ]
  },
  {
   "cell_type": "markdown",
   "metadata": {},
   "source": [
    "\n",
    "***Problem 24:*** Write a program to find all the numbers divisible by 6 but not a multiple of 5 between 100 and 500 (inclusive). Print the numbers as a comma-separated string."
   ]
  },
  {
   "cell_type": "code",
   "execution_count": 45,
   "metadata": {},
   "outputs": [
    {
     "name": "stdout",
     "output_type": "stream",
     "text": [
      "[102, 108, 114, 126, 132, 138, 144, 156, 162, 168, 174, 186, 192, 198, 204, 216, 222, 228, 234, 246, 252, 258, 264, 276, 282, 288, 294, 306, 312, 318, 324, 336, 342, 348, 354, 366, 372, 378, 384, 396, 402, 408, 414, 426, 432, 438, 444, 456, 462, 468, 474, 486, 492, 498]\n"
     ]
    }
   ],
   "source": [
    "###_____________Start code here_________________###\n",
    "a = []\n",
    "for i in range(100, 500):\n",
    "    if i%6==0 and i%5 !=0:\n",
    "        a.append(i) \n",
    "print(a)\n",
    "###_____________End code here_________________###"
   ]
  },
  {
   "cell_type": "code",
   "execution_count": null,
   "metadata": {},
   "outputs": [],
   "source": [
    "# There is no need to run this chunk of code.\n",
    "ex24()"
   ]
  },
  {
   "cell_type": "markdown",
   "metadata": {},
   "source": [
    "***Example 25:*** Write a program that converts \"firstname lastname\" to \"lastname, firstname\", using list comprehensions."
   ]
  },
  {
   "cell_type": "code",
   "execution_count": 25,
   "metadata": {},
   "outputs": [],
   "source": [
    "ls = ['Հրաչյա Վարդանյան', 'Անուշ Կարապետյան', 'Գոռ Անտոնյան', 'Տաթեւ Հարությունյան', 'Mary Sargsyan']"
   ]
  },
  {
   "cell_type": "code",
   "execution_count": 48,
   "metadata": {},
   "outputs": [
    {
     "name": "stdout",
     "output_type": "stream",
     "text": [
      "Վարդանյան, Հրաչյա\n",
      "Կարապետյան, Անուշ\n",
      "Անտոնյան, Գոռ\n",
      "Հարությունյան, Տաթեւ\n",
      "Sargsyan, Mary\n"
     ]
    }
   ],
   "source": [
    "###_____________Start code here_________________###\n",
    "ls = ['Հրաչյա Վարդանյան', 'Անուշ Կարապետյան', 'Գոռ Անտոնյան', 'Տաթեւ Հարությունյան', 'Mary Sargsyan']\n",
    "for i in ls:\n",
    "    sl = i.split()[1]+\", \"+i.split()[0]\n",
    "    print(sl)\n",
    "###_____________End code here_________________###"
   ]
  },
  {
   "cell_type": "code",
   "execution_count": null,
   "metadata": {},
   "outputs": [],
   "source": [
    "# There is no need to run this chunk of code.\n",
    "ex25(ls)"
   ]
  },
  {
   "cell_type": "markdown",
   "metadata": {},
   "source": [
    "***Problem 27:*** Write a function to devide an input list of ages between 0 and 70 into 4 groups.<br><br>\n",
    "Baby Boomers  - (50 to 70 years old]<br>\n",
    "Generation X - (34 to 50 years old]<br>\n",
    "Generation Y - (18 to 34 years old]<br>\n",
    "Generation Z - [0 to 18 years old]<br>\n",
    "\n",
    "Return a dictionary with the following structure:\n",
    "{'Group 1':[ages],'Group 2':[ages],'Group 3':[ages],'Group 4':[ages]}"
   ]
  },
  {
   "cell_type": "code",
   "execution_count": 52,
   "metadata": {},
   "outputs": [
    {
     "name": "stdout",
     "output_type": "stream",
     "text": [
      "{'GenZ': [18, 3, 14, 10, 1, 5], 'GenY': [29, 23, 24], 'BBoom': [69, 58, 52, 65]}\n"
     ]
    }
   ],
   "source": [
    "ls = [18,29,3,14,69,10,1,58,52,23,24,5,65]\n",
    "###_____________Start code here_________________###\n",
    "def gen(lis):\n",
    "    gens = {}\n",
    "    for i in range(len(gen)):\n",
    "        if 0<ls[i]<=18:\n",
    "            gens.setdefault('GenZ', []).append(gen[i])\n",
    "        elif 18<ls[i]<=34:\n",
    "            gens.setdefault('GenY', []).append(gen[i])\n",
    "        elif 34<ls[i]<=50:\n",
    "            gens.setdefault('GenX', []).append(gen[i])\n",
    "        else:\n",
    "            gens.setdefault('BBoom', []).append(gen[i])\n",
    "    return gens\n",
    "print(div(ls))\n",
    "###_____________End code here_________________###"
   ]
  },
  {
   "cell_type": "code",
   "execution_count": null,
   "metadata": {},
   "outputs": [],
   "source": [
    "# There is no need to run this chunk of code.\n",
    "ex27(ls)"
   ]
  }
 ],
 "metadata": {
  "kernelspec": {
   "display_name": "Python 3",
   "language": "python",
   "name": "python3"
  },
  "language_info": {
   "codemirror_mode": {
    "name": "ipython",
    "version": 3
   },
   "file_extension": ".py",
   "mimetype": "text/x-python",
   "name": "python",
   "nbconvert_exporter": "python",
   "pygments_lexer": "ipython3",
   "version": "3.7.1"
  }
 },
 "nbformat": 4,
 "nbformat_minor": 2
}
